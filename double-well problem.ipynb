{
 "cells": [
  {
   "cell_type": "code",
   "execution_count": 4,
   "metadata": {},
   "outputs": [],
   "source": [
    "import random\n",
    "import matplotlib.pyplot as plt\n",
    "import numpy as np\n",
    "from mpl_toolkits.mplot3d import Axes3D"
   ]
  },
  {
   "cell_type": "markdown",
   "metadata": {},
   "source": [
    "# Double-well problem"
   ]
  },
  {
   "cell_type": "markdown",
   "metadata": {},
   "source": [
    "Consider the following stochastic differential equations,\n",
    "\n",
    "dxt = −∇xV (xt, yt) dt + σ dwt1\n",
    "\n",
    "dyt = −∇yV (xt, yt) dt + σ dwt2\n",
    "\n",
    "where wt1 and wt2 are two independent standard Wiener processes. In this example, the potential is given by V (x, y) = (x^2 − 1)^2 + y^2 and σ = 0.7. Numerically, this system can be solved using the Euler–Maruyama method, which, for an SDE of the form\n",
    "\n",
    "dxt = µ(t, xt) dt + σ(t, xt) dwt, can be written as\n",
    "\n",
    "\n",
    "xk+1 = xk + h µ(tk, xk) + σ(tk, xk) ∆wk,\n",
    "\n",
    "\n",
    "where h is the step size and ∆wk = wk+1 −wk ∼ N (0, h). Here, N (0, h) denotes a normal distribution with mean 0\n",
    "and variance h. "
   ]
  },
  {
   "cell_type": "markdown",
   "metadata": {},
   "source": [
    "## Simulating a typical trajectory of the system using EM method"
   ]
  },
  {
   "cell_type": "code",
   "execution_count": 5,
   "metadata": {},
   "outputs": [
    {
     "data": {
      "image/png": "[encoded data removed]",
      "text/plain": [
       "<Figure size 432x288 with 1 Axes>"
      ]
     },
     "metadata": {},
     "output_type": "display_data"
    }
   ],
   "source": [
    "def iterate_x(h, x, y, sigma):\n",
    "    # gaussian distribution with mean 0 and variance h\n",
    "    w = np.random.normal(0, np.sqrt(h), 1)\n",
    "    # found by differentiating example\n",
    "    x_new = x - h*(4*(x**3) - 4*x) + sigma*w\n",
    "    return x_new\n",
    "\n",
    "\n",
    "def iterate_y(h, x, y, sigma):\n",
    "    # gaussian distribution with mean 0 and variance h\n",
    "    w = np.random.normal(0, np.sqrt(h), 1)\n",
    "    y_new = y - h*(2*y) + sigma*w\n",
    "    return y_new\n",
    "\n",
    "\n",
    "num_iterations = 10**6\n",
    "\n",
    "x_trajectory = np.zeros(num_iterations)\n",
    "y_trajectory = np.zeros(num_iterations)\n",
    "\n",
    "# initial conditions\n",
    "x = 1.0\n",
    "y = 1.0\n",
    "h = 0.001  # this is the step size\n",
    "sigma = 0.7\n",
    "\n",
    "for i in range(num_iterations):\n",
    "    x = iterate_x(h, x, y, sigma)\n",
    "    y = iterate_y(h, x, y, sigma)\n",
    "\n",
    "    x_trajectory[i] = x\n",
    "    y_trajectory[i] = y\n",
    "\n",
    "\n",
    "time = [h*i for i in range(num_iterations)]\n",
    "\n",
    "plt.plot(time, x_trajectory, alpha=0.7, label='x')\n",
    "plt.plot(time, y_trajectory, alpha=0.7, label='y')\n",
    "\n",
    "plt.xlabel('time')\n",
    "plt.legend()\n",
    "plt.show()"
   ]
  },
  {
   "cell_type": "markdown",
   "metadata": {},
   "source": [
    "as can be seen the x variable typically stays for a long time close to\n",
    "x = −1 or x = 1 and rarely switches from one state to the other. The y variable oscillates around the equilibrium\n",
    "y = 0"
   ]
  },
  {
   "cell_type": "markdown",
   "metadata": {},
   "source": [
    "## Using Ulam's method to approximate the Frobenius-Perron operator"
   ]
  },
  {
   "cell_type": "markdown",
   "metadata": {},
   "source": [
    "See https://arxiv.org/pdf/1512.05997.pdf or https://www.sciencedirect.com/science/article/pii/0167278995002928 for details"
   ]
  },
  {
   "cell_type": "code",
   "execution_count": null,
   "metadata": {},
   "outputs": [],
   "source": [
    "# create boxes in x, y plane between -2 and 2. This can be established in a 2d matrix\n",
    "\n",
    "# partitioned the domain Ω = [−2, 2]^2 into 50×50 boxes of the same size\n",
    "\n",
    "num_intervals = 50\n",
    "num_boxes = 50**2\n",
    "\n",
    "max_val = 2\n",
    "min_val = -2\n",
    "\n",
    "x_intervals = np.arange(min_val, max_val, (max_val - min_val)/num_intervals)\n",
    "y_intervals = np.arange(min_val, max_val, (max_val - min_val)/num_intervals)\n",
    "\n",
    "indicator_matrix = [[0 for x in range(num_boxes)] for y in range(num_boxes)]\n",
    "\n",
    "\n",
    "# pick x points (picked uniformly) in each box and run for x number of iterations. See which box Bj it goes to\n",
    "# as well as the box it comes from on previous iteration Bi. Update indicator_matrix[Bi][Bj] += 1\n",
    "\n",
    "num_simulated_points = 100\n",
    "num_iterations = 100\n",
    "\n",
    "# intial conditions\n",
    "h = 0.001  # this is the step size\n",
    "sigma = 0.7\n",
    "\n",
    "X = []  # just for plotting at end\n",
    "Y = []\n",
    "\n",
    "\n",
    "for idx_x, val_x in enumerate(x_intervals):\n",
    "    for idx_y, val_y in enumerate(y_intervals):\n",
    "        X.append(val_x)\n",
    "        Y.append(val_y)\n",
    "        for _ in range(num_simulated_points):\n",
    "            if idx_x != num_intervals - 1:\n",
    "                x_init = np.random.uniform(val_x, x_intervals[idx_x + 1])\n",
    "            else:\n",
    "                x_init = np.random.uniform(val_x, max_val)\n",
    "\n",
    "            if idx_y != num_intervals - 1:\n",
    "                y_init = np.random.uniform(val_y, y_intervals[idx_y + 1])\n",
    "            else:\n",
    "                y_init = np.random.uniform(val_y, max_val)\n",
    "\n",
    "            x_new = iterate_x(h, x_init, y_init, sigma)\n",
    "            y_new = iterate_y(h, x_init, y_init, sigma)\n",
    "            indicator_matrix[int(idx_x*num_intervals + idx_y)\n",
    "                             ][int((x_place[0] - 1)*num_intervals + (y_place[0] - 1))] += 1\n",
    "\n",
    "            for _ in range(num_iterations):\n",
    "                x_init = x_new\n",
    "                y_init = y_new\n",
    "\n",
    "                x_place_init = np.searchsorted(x_intervals, x_init)\n",
    "                y_place_init = np.searchsorted(y_intervals, y_init)\n",
    "\n",
    "                x_new = iterate_x(h, x_init, y_init, sigma)\n",
    "                y_new = iterate_y(h, x_init, y_init, sigma)\n",
    "\n",
    "                x_place = np.searchsorted(x_intervals, x_new)\n",
    "                y_place = np.searchsorted(y_intervals, y_new)\n",
    "\n",
    "                indicator_matrix[int((x_place_init[0] - 1)*num_intervals + (y_place_init[0] - 1))\n",
    "                                 ][int((x_place[0] - 1)*num_intervals + (y_place[0] - 1))] += 1"
   ]
  },
  {
   "cell_type": "code",
   "execution_count": null,
   "metadata": {},
   "outputs": [],
   "source": [
    "indicator_matrix_array = np.array(indicator_matrix)\n",
    "row_sums = indicator_matrix_array.sum(axis=1)\n",
    "normalised_matrix = indicator_matrix_array / row_sums[:, np.newaxis]\n",
    "eigenvalues, eigenvectors = np.linalg.eig(normalised_matrix)\n",
    "rearrangedEvalsVecs = sorted(zip(eigenvalues, eigenvectors.T),\n",
    "                             key=lambda x: x[0].real, reverse=True)\n",
    "\n",
    "\n",
    "eigenvalue_index = 0\n",
    "\n",
    "eigen_explored = rearrangedEvalsVecs[eigenvalue_index][1]\n",
    "\n",
    "X = []\n",
    "Y = []\n",
    "\n",
    "for idx_x, val_x in enumerate(x_intervals):\n",
    "    for idx_y, val_y in enumerate(y_intervals):\n",
    "        X.append(val_x)\n",
    "        Y.append(val_y)\n",
    "\n",
    "\n",
    "X = np.asarray(X)\n",
    "Y = np.asarray(Y)\n",
    "X = X.reshape(50, 50)\n",
    "Y = Y.reshape(50, 50)\n",
    "Z = eigen_explored.reshape(50, 50)\n",
    "\n",
    "fig = plt.figure()\n",
    "ax = fig.add_subplot(111, projection='3d')\n",
    "\n",
    "\n",
    "ax.plot_surface(X, Y, Z)\n",
    "plt.show()"
   ]
  }
 ],
 "metadata": {
  "kernelspec": {
   "display_name": "Python 3",
   "language": "python",
   "name": "python3"
  },
  "language_info": {
   "codemirror_mode": {
    "name": "ipython",
    "version": 3
   },
   "file_extension": ".py",
   "mimetype": "text/x-python",
   "name": "python",
   "nbconvert_exporter": "python",
   "pygments_lexer": "ipython3",
   "version": "3.6.4"
  },
  "toc": {
   "base_numbering": 1,
   "nav_menu": {},
   "number_sections": true,
   "sideBar": true,
   "skip_h1_title": false,
   "title_cell": "Table of Contents",
   "title_sidebar": "Contents",
   "toc_cell": false,
   "toc_position": {},
   "toc_section_display": true,
   "toc_window_display": false
  }
 },
 "nbformat": 4,
 "nbformat_minor": 2
}
